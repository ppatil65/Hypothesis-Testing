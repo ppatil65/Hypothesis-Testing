{
 "cells": [
  {
   "cell_type": "code",
   "execution_count": 2,
   "id": "b3013c63",
   "metadata": {},
   "outputs": [],
   "source": [
    "# One sample testing\n",
    "\n",
    "import numpy as np\n",
    "from scipy.stats import ttest_1samp, wilcoxon\n",
    "from statsmodels.stats.power import ttest_power"
   ]
  },
  {
   "cell_type": "code",
   "execution_count": 6,
   "id": "727ea324",
   "metadata": {},
   "outputs": [],
   "source": [
    "# daily intake of enegy in kJ for 11 women\n",
    "daily_intake = np.array([5260, 5470, 5640, 6180,6515,\n",
    "                         6805,7515,7515,8230,8770])"
   ]
  },
  {
   "cell_type": "code",
   "execution_count": 7,
   "id": "32c18281",
   "metadata": {},
   "outputs": [
    {
     "name": "stdout",
     "output_type": "stream",
     "text": [
      "-2.4697605212506106 0.03558424919361298\n"
     ]
    }
   ],
   "source": [
    "# one sample t-test\n",
    "#null hypothesis: expected value = 7725\n",
    "t_statistic, p_value = ttest_1samp(daily_intake, 7725)\n",
    "print(t_statistic, p_value)"
   ]
  },
  {
   "cell_type": "code",
   "execution_count": 8,
   "id": "02f0c244",
   "metadata": {},
   "outputs": [
    {
     "name": "stdout",
     "output_type": "stream",
     "text": [
      "one-sample t-test p-value= 0.03558424919361298\n"
     ]
    }
   ],
   "source": [
    "# p_vlalue < 0.05 => alternative hypothesis\n",
    "#data deviate significantly from the hypothesis that the mean\n",
    "# is 7725 at the 5% level of signifance\n",
    "print(\"one-sample t-test p-value=\", p_value)"
   ]
  },
  {
   "cell_type": "code",
   "execution_count": 13,
   "id": "632faa9d",
   "metadata": {},
   "outputs": [
    {
     "name": "stdout",
     "output_type": "stream",
     "text": [
      "one-sample wilcoxon-test p-value 0.048828125\n"
     ]
    }
   ],
   "source": [
    "#one sample wilcoxon-test\n",
    "z_statistic, p_value = wilcoxon(daily_intake - 7725)\n",
    "print(\"one-sample wilcoxon-test p-value\", p_value)"
   ]
  },
  {
   "cell_type": "code",
   "execution_count": 14,
   "id": "5ecd5bde",
   "metadata": {},
   "outputs": [
    {
     "data": {
      "text/plain": [
       "-0.8232535070835368"
      ]
     },
     "execution_count": 14,
     "metadata": {},
     "output_type": "execute_result"
    }
   ],
   "source": [
    "# Calculating Power of Test\n",
    "# Compute the diffrence in Means between Population and Sample and divide it by Std. Dev.\n",
    "# Set the number of Observations.\n",
    "# Set the alpha value and alternate values 'two-sided', 'larger', 'smaller'\n",
    "\n",
    "(np.mean(daily_intake)- 7725) / np.std(daily_intake)"
   ]
  },
  {
   "cell_type": "code",
   "execution_count": 15,
   "id": "c4dc28e2",
   "metadata": {},
   "outputs": [
    {
     "name": "stdout",
     "output_type": "stream",
     "text": [
      "0.7600146595982609\n"
     ]
    }
   ],
   "source": [
    "print(ttest_power (-0.892, nobs=11, alpha=0.05, alternative='two-sided'))"
   ]
  },
  {
   "cell_type": "code",
   "execution_count": null,
   "id": "61b5fb6e",
   "metadata": {},
   "outputs": [],
   "source": []
  }
 ],
 "metadata": {
  "kernelspec": {
   "display_name": "Python 3",
   "language": "python",
   "name": "python3"
  },
  "language_info": {
   "codemirror_mode": {
    "name": "ipython",
    "version": 3
   },
   "file_extension": ".py",
   "mimetype": "text/x-python",
   "name": "python",
   "nbconvert_exporter": "python",
   "pygments_lexer": "ipython3",
   "version": "3.8.8"
  }
 },
 "nbformat": 4,
 "nbformat_minor": 5
}
